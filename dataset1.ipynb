{
  "cells": [
    {
      "cell_type": "markdown",
      "metadata": {
        "id": "view-in-github",
        "colab_type": "text"
      },
      "source": [
        "<a href=\"https://colab.research.google.com/github/nickkabsi/DEEP-LEARNING-PROJECT/blob/main/dataset1.ipynb\" target=\"_parent\"><img src=\"https://colab.research.google.com/assets/colab-badge.svg\" alt=\"Open In Colab\"/></a>"
      ]
    },
    {
      "cell_type": "code",
      "execution_count": 1,
      "metadata": {
        "id": "XeN2lP5gaOSQ"
      },
      "outputs": [],
      "source": [
        "import warnings\n",
        "warnings.filterwarnings('ignore')"
      ]
    },
    {
      "cell_type": "code",
      "execution_count": 2,
      "metadata": {
        "id": "rjf8uwCxaru_"
      },
      "outputs": [],
      "source": [
        "#import the libraries as shown below\n",
        "import numpy as np\n",
        "from glob import glob\n",
        "import matplotlib.pyplot as plt\n",
        "import os\n",
        "import math\n",
        "import shutil\n"
      ]
    },
    {
      "cell_type": "code",
      "execution_count": 3,
      "metadata": {
        "id": "emqdUTwbbhBn"
      },
      "outputs": [],
      "source": [
        "#count the number of images in the respective classes 1-Sick, and 0- Normal\n",
        "ROOT_DIR='/content/drive/MyDrive/deep_learning_project/dataset1/known_images'\n",
        "number_of_images ={}\n",
        "\n",
        "for dir in os.listdir(ROOT_DIR):\n",
        "  number_of_images[dir] =len( os.listdir(os.path.join(ROOT_DIR, dir)))\n",
        "\n",
        "  \n"
      ]
    },
    {
      "cell_type": "code",
      "execution_count": 4,
      "metadata": {
        "id": "wt-WK0vjUNyX"
      },
      "outputs": [],
      "source": [
        "#from google.colab import drive\n",
        "#drive.mount('/content/drive')"
      ]
    },
    {
      "cell_type": "code",
      "execution_count": 5,
      "metadata": {
        "id": "MQLBrKvzraWj",
        "colab": {
          "base_uri": "https://localhost:8080/"
        },
        "outputId": "e1fbdc08-af4c-4288-a02e-9421b6891a89"
      },
      "outputs": [
        {
          "output_type": "execute_result",
          "data": {
            "text/plain": [
              "dict_items([('Sick', 351), ('Normal', 364)])"
            ]
          },
          "metadata": {},
          "execution_count": 5
        }
      ],
      "source": [
        "number_of_images.items()"
      ]
    },
    {
      "cell_type": "code",
      "execution_count": 6,
      "metadata": {
        "id": "GZeKlL-PD9oa",
        "colab": {
          "base_uri": "https://localhost:8080/"
        },
        "outputId": "2f8c4b51-0d51-446f-d980-87d9fec7d2d1"
      },
      "outputs": [
        {
          "output_type": "execute_result",
          "data": {
            "text/plain": [
              "['Sick', 'Normal']"
            ]
          },
          "metadata": {},
          "execution_count": 6
        }
      ],
      "source": [
        "os.listdir(\"/content/drive/MyDrive/deep_learning_project/dataset1/known_images\")"
      ]
    },
    {
      "cell_type": "code",
      "execution_count": 7,
      "metadata": {
        "id": "CtVhLhbksWzR"
      },
      "outputs": [],
      "source": [
        "#split the data for training and testing and validation 70:15:15"
      ]
    },
    {
      "cell_type": "code",
      "execution_count": 8,
      "metadata": {
        "id": "gHfValsJbhyL"
      },
      "outputs": [],
      "source": [
        "#create a training folder\n",
        "def dataFolder(p, split):\n",
        "  # we create a training folder\n",
        "\n",
        "  if not os.path.exists(\"./\"+p):\n",
        "    os.mkdir(\"./\"+p)\n",
        "\n",
        "    for dir in os.listdir(ROOT_DIR):\n",
        "      os.makedirs(\"./\"+p+\"/\"+dir)\n",
        "      for img in np.random.choice(a=os.listdir(os.path.join(ROOT_DIR,dir)),\n",
        "                                  size=(math.floor(split*number_of_images[dir])-5),\n",
        "                                  replace=False):\n",
        "        O=os.path.join(ROOT_DIR,dir,img)#path\n",
        "        D=os.path.join(\"./\"+p,dir)\n",
        "        shutil.copy(O,D)\n",
        "        os.remove(O)\n",
        "      else:\n",
        "        print(f\"{p} Folder exists\")\n",
        "      \n",
        "      \n",
        "      "
      ]
    },
    {
      "cell_type": "code",
      "execution_count": 9,
      "metadata": {
        "id": "ksjm3v1XblVB",
        "colab": {
          "base_uri": "https://localhost:8080/"
        },
        "outputId": "831a946d-0d5b-4565-c807-ac192dd3f4f6"
      },
      "outputs": [
        {
          "output_type": "stream",
          "name": "stdout",
          "text": [
            "train Folder exists\n",
            "train Folder exists\n"
          ]
        }
      ],
      "source": [
        "dataFolder(\"train\", 0.7)\n"
      ]
    },
    {
      "cell_type": "code",
      "execution_count": 10,
      "metadata": {
        "id": "LKP4LQuHbqJY",
        "colab": {
          "base_uri": "https://localhost:8080/"
        },
        "outputId": "40c25b16-36ec-46e8-d016-2b798da99184"
      },
      "outputs": [
        {
          "output_type": "stream",
          "name": "stdout",
          "text": [
            "test Folder exists\n",
            "test Folder exists\n"
          ]
        }
      ],
      "source": [
        "dataFolder(\"test\",0.15)\n"
      ]
    },
    {
      "cell_type": "code",
      "execution_count": 11,
      "metadata": {
        "id": "EtKZXZ81bqQ8",
        "colab": {
          "base_uri": "https://localhost:8080/"
        },
        "outputId": "116a6f35-4de1-4e75-eeb6-929be3ca9bb1"
      },
      "outputs": [
        {
          "output_type": "stream",
          "name": "stdout",
          "text": [
            "val Folder exists\n",
            "val Folder exists\n"
          ]
        }
      ],
      "source": [
        "dataFolder(\"val\",0.15)"
      ]
    },
    {
      "cell_type": "code",
      "execution_count": 12,
      "metadata": {
        "id": "NRXSTZCkNSdh"
      },
      "outputs": [],
      "source": [
        "#preparing data generator\n",
        "from keras.preprocessing.image import ImageDataGenerator\n",
        "from keras.applications.mobilenet import MobileNet,preprocess_input"
      ]
    },
    {
      "cell_type": "code",
      "execution_count": 13,
      "metadata": {
        "id": "57X-3tIOKRDu"
      },
      "outputs": [],
      "source": [
        "#preparing our data using Data Generator\n",
        "def preprocessingImages1(path):\n",
        "  \"\"\"\n",
        "  input : path\n",
        "  output : pre processed images\n",
        "  \"\"\"\n",
        "  image_data=ImageDataGenerator(zoom_range=0.2, shear_range=0.2, \n",
        "                                preprocessing_function=preprocess_input, horizontal_flip=True,) # data augmentation\n",
        "  image=image_data.flow_from_directory(directory =path, target_size=(224,224),\n",
        "                                       batch_size=32, class_mode='binary')\n",
        "\n",
        "  return image"
      ]
    },
    {
      "cell_type": "code",
      "execution_count": 14,
      "metadata": {
        "id": "yY67dqPxKgqF",
        "colab": {
          "base_uri": "https://localhost:8080/"
        },
        "outputId": "77cc02d0-11d7-48ac-8064-0cdfbbb67efd"
      },
      "outputs": [
        {
          "output_type": "stream",
          "name": "stdout",
          "text": [
            "Found 489 images belonging to 2 classes.\n"
          ]
        }
      ],
      "source": [
        "path=\"/content/train\"\n",
        "train_data=preprocessingImages1(path)"
      ]
    },
    {
      "cell_type": "code",
      "execution_count": 15,
      "metadata": {
        "id": "FmxDFdSSKrKv",
        "colab": {
          "base_uri": "https://localhost:8080/"
        },
        "outputId": "b8a9d947-cb3a-455a-c613-589bd5aa6171"
      },
      "outputs": [
        {
          "output_type": "execute_result",
          "data": {
            "text/plain": [
              "{'Normal': 0, 'Sick': 1}"
            ]
          },
          "metadata": {},
          "execution_count": 15
        }
      ],
      "source": [
        "train_data.class_indices"
      ]
    },
    {
      "cell_type": "code",
      "execution_count": 16,
      "metadata": {
        "id": "gdHdlC3WLBRX"
      },
      "outputs": [],
      "source": [
        "def preprocessingImages2(path):\n",
        "  \"\"\"\n",
        "  input : path\n",
        "  output : pre processed images\n",
        "  \"\"\"\n",
        "  image_data=ImageDataGenerator( preprocessing_function=preprocess_input)\n",
        "  image=image_data.flow_from_directory(directory =path, target_size=(224,224), batch_size=32, class_mode='binary')\n",
        "\n",
        "  return image"
      ]
    },
    {
      "cell_type": "code",
      "execution_count": 17,
      "metadata": {
        "id": "10fBCgycLDE_",
        "colab": {
          "base_uri": "https://localhost:8080/"
        },
        "outputId": "63e6236c-1c8c-406a-a7fa-0126dd6c619d"
      },
      "outputs": [
        {
          "output_type": "stream",
          "name": "stdout",
          "text": [
            "Found 96 images belonging to 2 classes.\n"
          ]
        }
      ],
      "source": [
        "path=\"/content/test\"\n",
        "test_data=preprocessingImages2(path)"
      ]
    },
    {
      "cell_type": "code",
      "execution_count": 18,
      "metadata": {
        "id": "KRUefS30LQgx",
        "colab": {
          "base_uri": "https://localhost:8080/"
        },
        "outputId": "3343ab87-c0f7-4d07-eb5e-392047ee3f5b"
      },
      "outputs": [
        {
          "output_type": "stream",
          "name": "stdout",
          "text": [
            "Found 96 images belonging to 2 classes.\n"
          ]
        }
      ],
      "source": [
        "path=\"/content/val\"\n",
        "val_data=preprocessingImages2(path)"
      ]
    },
    {
      "cell_type": "code",
      "execution_count": 19,
      "metadata": {
        "id": "tz0kDipHLUQh"
      },
      "outputs": [],
      "source": [
        "#Model training with a pre-trained model\n",
        "import numpy as np\n",
        "import matplotlib.pyplot as plt\n",
        "from keras.layers import Flatten, Dense\n",
        "from keras.models import Model, load_model\n",
        "from keras.applications.mobilenet import MobileNet,preprocess_input\n",
        "import keras\n"
      ]
    },
    {
      "cell_type": "code",
      "execution_count": 20,
      "metadata": {
        "id": "TK9fWPo3N2XI",
        "colab": {
          "base_uri": "https://localhost:8080/"
        },
        "outputId": "36b985b9-1ece-49e2-888d-380beaaade1b"
      },
      "outputs": [
        {
          "output_type": "stream",
          "name": "stdout",
          "text": [
            "Downloading data from https://storage.googleapis.com/tensorflow/keras-applications/mobilenet/mobilenet_1_0_224_tf_no_top.h5\n",
            "17227776/17225924 [==============================] - 0s 0us/step\n",
            "17235968/17225924 [==============================] - 0s 0us/step\n"
          ]
        }
      ],
      "source": [
        "#create a model\n",
        "base_model=MobileNet(input_shape=(224,224,3), include_top=False)"
      ]
    },
    {
      "cell_type": "code",
      "execution_count": 21,
      "metadata": {
        "id": "4pWZ7y7nORKN"
      },
      "outputs": [],
      "source": [
        "#Not to train a model again\n",
        "for layer in base_model.layers:\n",
        "  layer.trainable=False"
      ]
    },
    {
      "cell_type": "code",
      "execution_count": 22,
      "metadata": {
        "id": "wFdyioBQOo4m",
        "colab": {
          "base_uri": "https://localhost:8080/"
        },
        "outputId": "67d9c8ba-949f-4677-f380-bc5d3431f8f4"
      },
      "outputs": [
        {
          "output_type": "stream",
          "name": "stdout",
          "text": [
            "Model: \"mobilenet_1.00_224\"\n",
            "_________________________________________________________________\n",
            " Layer (type)                Output Shape              Param #   \n",
            "=================================================================\n",
            " input_1 (InputLayer)        [(None, 224, 224, 3)]     0         \n",
            "                                                                 \n",
            " conv1 (Conv2D)              (None, 112, 112, 32)      864       \n",
            "                                                                 \n",
            " conv1_bn (BatchNormalizatio  (None, 112, 112, 32)     128       \n",
            " n)                                                              \n",
            "                                                                 \n",
            " conv1_relu (ReLU)           (None, 112, 112, 32)      0         \n",
            "                                                                 \n",
            " conv_dw_1 (DepthwiseConv2D)  (None, 112, 112, 32)     288       \n",
            "                                                                 \n",
            " conv_dw_1_bn (BatchNormaliz  (None, 112, 112, 32)     128       \n",
            " ation)                                                          \n",
            "                                                                 \n",
            " conv_dw_1_relu (ReLU)       (None, 112, 112, 32)      0         \n",
            "                                                                 \n",
            " conv_pw_1 (Conv2D)          (None, 112, 112, 64)      2048      \n",
            "                                                                 \n",
            " conv_pw_1_bn (BatchNormaliz  (None, 112, 112, 64)     256       \n",
            " ation)                                                          \n",
            "                                                                 \n",
            " conv_pw_1_relu (ReLU)       (None, 112, 112, 64)      0         \n",
            "                                                                 \n",
            " conv_pad_2 (ZeroPadding2D)  (None, 113, 113, 64)      0         \n",
            "                                                                 \n",
            " conv_dw_2 (DepthwiseConv2D)  (None, 56, 56, 64)       576       \n",
            "                                                                 \n",
            " conv_dw_2_bn (BatchNormaliz  (None, 56, 56, 64)       256       \n",
            " ation)                                                          \n",
            "                                                                 \n",
            " conv_dw_2_relu (ReLU)       (None, 56, 56, 64)        0         \n",
            "                                                                 \n",
            " conv_pw_2 (Conv2D)          (None, 56, 56, 128)       8192      \n",
            "                                                                 \n",
            " conv_pw_2_bn (BatchNormaliz  (None, 56, 56, 128)      512       \n",
            " ation)                                                          \n",
            "                                                                 \n",
            " conv_pw_2_relu (ReLU)       (None, 56, 56, 128)       0         \n",
            "                                                                 \n",
            " conv_dw_3 (DepthwiseConv2D)  (None, 56, 56, 128)      1152      \n",
            "                                                                 \n",
            " conv_dw_3_bn (BatchNormaliz  (None, 56, 56, 128)      512       \n",
            " ation)                                                          \n",
            "                                                                 \n",
            " conv_dw_3_relu (ReLU)       (None, 56, 56, 128)       0         \n",
            "                                                                 \n",
            " conv_pw_3 (Conv2D)          (None, 56, 56, 128)       16384     \n",
            "                                                                 \n",
            " conv_pw_3_bn (BatchNormaliz  (None, 56, 56, 128)      512       \n",
            " ation)                                                          \n",
            "                                                                 \n",
            " conv_pw_3_relu (ReLU)       (None, 56, 56, 128)       0         \n",
            "                                                                 \n",
            " conv_pad_4 (ZeroPadding2D)  (None, 57, 57, 128)       0         \n",
            "                                                                 \n",
            " conv_dw_4 (DepthwiseConv2D)  (None, 28, 28, 128)      1152      \n",
            "                                                                 \n",
            " conv_dw_4_bn (BatchNormaliz  (None, 28, 28, 128)      512       \n",
            " ation)                                                          \n",
            "                                                                 \n",
            " conv_dw_4_relu (ReLU)       (None, 28, 28, 128)       0         \n",
            "                                                                 \n",
            " conv_pw_4 (Conv2D)          (None, 28, 28, 256)       32768     \n",
            "                                                                 \n",
            " conv_pw_4_bn (BatchNormaliz  (None, 28, 28, 256)      1024      \n",
            " ation)                                                          \n",
            "                                                                 \n",
            " conv_pw_4_relu (ReLU)       (None, 28, 28, 256)       0         \n",
            "                                                                 \n",
            " conv_dw_5 (DepthwiseConv2D)  (None, 28, 28, 256)      2304      \n",
            "                                                                 \n",
            " conv_dw_5_bn (BatchNormaliz  (None, 28, 28, 256)      1024      \n",
            " ation)                                                          \n",
            "                                                                 \n",
            " conv_dw_5_relu (ReLU)       (None, 28, 28, 256)       0         \n",
            "                                                                 \n",
            " conv_pw_5 (Conv2D)          (None, 28, 28, 256)       65536     \n",
            "                                                                 \n",
            " conv_pw_5_bn (BatchNormaliz  (None, 28, 28, 256)      1024      \n",
            " ation)                                                          \n",
            "                                                                 \n",
            " conv_pw_5_relu (ReLU)       (None, 28, 28, 256)       0         \n",
            "                                                                 \n",
            " conv_pad_6 (ZeroPadding2D)  (None, 29, 29, 256)       0         \n",
            "                                                                 \n",
            " conv_dw_6 (DepthwiseConv2D)  (None, 14, 14, 256)      2304      \n",
            "                                                                 \n",
            " conv_dw_6_bn (BatchNormaliz  (None, 14, 14, 256)      1024      \n",
            " ation)                                                          \n",
            "                                                                 \n",
            " conv_dw_6_relu (ReLU)       (None, 14, 14, 256)       0         \n",
            "                                                                 \n",
            " conv_pw_6 (Conv2D)          (None, 14, 14, 512)       131072    \n",
            "                                                                 \n",
            " conv_pw_6_bn (BatchNormaliz  (None, 14, 14, 512)      2048      \n",
            " ation)                                                          \n",
            "                                                                 \n",
            " conv_pw_6_relu (ReLU)       (None, 14, 14, 512)       0         \n",
            "                                                                 \n",
            " conv_dw_7 (DepthwiseConv2D)  (None, 14, 14, 512)      4608      \n",
            "                                                                 \n",
            " conv_dw_7_bn (BatchNormaliz  (None, 14, 14, 512)      2048      \n",
            " ation)                                                          \n",
            "                                                                 \n",
            " conv_dw_7_relu (ReLU)       (None, 14, 14, 512)       0         \n",
            "                                                                 \n",
            " conv_pw_7 (Conv2D)          (None, 14, 14, 512)       262144    \n",
            "                                                                 \n",
            " conv_pw_7_bn (BatchNormaliz  (None, 14, 14, 512)      2048      \n",
            " ation)                                                          \n",
            "                                                                 \n",
            " conv_pw_7_relu (ReLU)       (None, 14, 14, 512)       0         \n",
            "                                                                 \n",
            " conv_dw_8 (DepthwiseConv2D)  (None, 14, 14, 512)      4608      \n",
            "                                                                 \n",
            " conv_dw_8_bn (BatchNormaliz  (None, 14, 14, 512)      2048      \n",
            " ation)                                                          \n",
            "                                                                 \n",
            " conv_dw_8_relu (ReLU)       (None, 14, 14, 512)       0         \n",
            "                                                                 \n",
            " conv_pw_8 (Conv2D)          (None, 14, 14, 512)       262144    \n",
            "                                                                 \n",
            " conv_pw_8_bn (BatchNormaliz  (None, 14, 14, 512)      2048      \n",
            " ation)                                                          \n",
            "                                                                 \n",
            " conv_pw_8_relu (ReLU)       (None, 14, 14, 512)       0         \n",
            "                                                                 \n",
            " conv_dw_9 (DepthwiseConv2D)  (None, 14, 14, 512)      4608      \n",
            "                                                                 \n",
            " conv_dw_9_bn (BatchNormaliz  (None, 14, 14, 512)      2048      \n",
            " ation)                                                          \n",
            "                                                                 \n",
            " conv_dw_9_relu (ReLU)       (None, 14, 14, 512)       0         \n",
            "                                                                 \n",
            " conv_pw_9 (Conv2D)          (None, 14, 14, 512)       262144    \n",
            "                                                                 \n",
            " conv_pw_9_bn (BatchNormaliz  (None, 14, 14, 512)      2048      \n",
            " ation)                                                          \n",
            "                                                                 \n",
            " conv_pw_9_relu (ReLU)       (None, 14, 14, 512)       0         \n",
            "                                                                 \n",
            " conv_dw_10 (DepthwiseConv2D  (None, 14, 14, 512)      4608      \n",
            " )                                                               \n",
            "                                                                 \n",
            " conv_dw_10_bn (BatchNormali  (None, 14, 14, 512)      2048      \n",
            " zation)                                                         \n",
            "                                                                 \n",
            " conv_dw_10_relu (ReLU)      (None, 14, 14, 512)       0         \n",
            "                                                                 \n",
            " conv_pw_10 (Conv2D)         (None, 14, 14, 512)       262144    \n",
            "                                                                 \n",
            " conv_pw_10_bn (BatchNormali  (None, 14, 14, 512)      2048      \n",
            " zation)                                                         \n",
            "                                                                 \n",
            " conv_pw_10_relu (ReLU)      (None, 14, 14, 512)       0         \n",
            "                                                                 \n",
            " conv_dw_11 (DepthwiseConv2D  (None, 14, 14, 512)      4608      \n",
            " )                                                               \n",
            "                                                                 \n",
            " conv_dw_11_bn (BatchNormali  (None, 14, 14, 512)      2048      \n",
            " zation)                                                         \n",
            "                                                                 \n",
            " conv_dw_11_relu (ReLU)      (None, 14, 14, 512)       0         \n",
            "                                                                 \n",
            " conv_pw_11 (Conv2D)         (None, 14, 14, 512)       262144    \n",
            "                                                                 \n",
            " conv_pw_11_bn (BatchNormali  (None, 14, 14, 512)      2048      \n",
            " zation)                                                         \n",
            "                                                                 \n",
            " conv_pw_11_relu (ReLU)      (None, 14, 14, 512)       0         \n",
            "                                                                 \n",
            " conv_pad_12 (ZeroPadding2D)  (None, 15, 15, 512)      0         \n",
            "                                                                 \n",
            " conv_dw_12 (DepthwiseConv2D  (None, 7, 7, 512)        4608      \n",
            " )                                                               \n",
            "                                                                 \n",
            " conv_dw_12_bn (BatchNormali  (None, 7, 7, 512)        2048      \n",
            " zation)                                                         \n",
            "                                                                 \n",
            " conv_dw_12_relu (ReLU)      (None, 7, 7, 512)         0         \n",
            "                                                                 \n",
            " conv_pw_12 (Conv2D)         (None, 7, 7, 1024)        524288    \n",
            "                                                                 \n",
            " conv_pw_12_bn (BatchNormali  (None, 7, 7, 1024)       4096      \n",
            " zation)                                                         \n",
            "                                                                 \n",
            " conv_pw_12_relu (ReLU)      (None, 7, 7, 1024)        0         \n",
            "                                                                 \n",
            " conv_dw_13 (DepthwiseConv2D  (None, 7, 7, 1024)       9216      \n",
            " )                                                               \n",
            "                                                                 \n",
            " conv_dw_13_bn (BatchNormali  (None, 7, 7, 1024)       4096      \n",
            " zation)                                                         \n",
            "                                                                 \n",
            " conv_dw_13_relu (ReLU)      (None, 7, 7, 1024)        0         \n",
            "                                                                 \n",
            " conv_pw_13 (Conv2D)         (None, 7, 7, 1024)        1048576   \n",
            "                                                                 \n",
            " conv_pw_13_bn (BatchNormali  (None, 7, 7, 1024)       4096      \n",
            " zation)                                                         \n",
            "                                                                 \n",
            " conv_pw_13_relu (ReLU)      (None, 7, 7, 1024)        0         \n",
            "                                                                 \n",
            "=================================================================\n",
            "Total params: 3,228,864\n",
            "Trainable params: 0\n",
            "Non-trainable params: 3,228,864\n",
            "_________________________________________________________________\n"
          ]
        }
      ],
      "source": [
        "#How the base_model looks like\n",
        "base_model.summary()"
      ]
    },
    {
      "cell_type": "code",
      "execution_count": 23,
      "metadata": {
        "id": "0ghmRbb9O7kr"
      },
      "outputs": [],
      "source": [
        "X=Flatten()(base_model.output)\n",
        "X=Dense(units=1, activation='sigmoid')(X)\n",
        "\n",
        "#final model\n",
        "model= Model(base_model.input, X)"
      ]
    },
    {
      "cell_type": "code",
      "execution_count": 24,
      "metadata": {
        "id": "zR3qFzN1Th-s",
        "colab": {
          "base_uri": "https://localhost:8080/"
        },
        "outputId": "d7e9bf01-b64b-4a33-f440-88f1e335483d"
      },
      "outputs": [
        {
          "output_type": "stream",
          "name": "stdout",
          "text": [
            "Model: \"model\"\n",
            "_________________________________________________________________\n",
            " Layer (type)                Output Shape              Param #   \n",
            "=================================================================\n",
            " input_1 (InputLayer)        [(None, 224, 224, 3)]     0         \n",
            "                                                                 \n",
            " conv1 (Conv2D)              (None, 112, 112, 32)      864       \n",
            "                                                                 \n",
            " conv1_bn (BatchNormalizatio  (None, 112, 112, 32)     128       \n",
            " n)                                                              \n",
            "                                                                 \n",
            " conv1_relu (ReLU)           (None, 112, 112, 32)      0         \n",
            "                                                                 \n",
            " conv_dw_1 (DepthwiseConv2D)  (None, 112, 112, 32)     288       \n",
            "                                                                 \n",
            " conv_dw_1_bn (BatchNormaliz  (None, 112, 112, 32)     128       \n",
            " ation)                                                          \n",
            "                                                                 \n",
            " conv_dw_1_relu (ReLU)       (None, 112, 112, 32)      0         \n",
            "                                                                 \n",
            " conv_pw_1 (Conv2D)          (None, 112, 112, 64)      2048      \n",
            "                                                                 \n",
            " conv_pw_1_bn (BatchNormaliz  (None, 112, 112, 64)     256       \n",
            " ation)                                                          \n",
            "                                                                 \n",
            " conv_pw_1_relu (ReLU)       (None, 112, 112, 64)      0         \n",
            "                                                                 \n",
            " conv_pad_2 (ZeroPadding2D)  (None, 113, 113, 64)      0         \n",
            "                                                                 \n",
            " conv_dw_2 (DepthwiseConv2D)  (None, 56, 56, 64)       576       \n",
            "                                                                 \n",
            " conv_dw_2_bn (BatchNormaliz  (None, 56, 56, 64)       256       \n",
            " ation)                                                          \n",
            "                                                                 \n",
            " conv_dw_2_relu (ReLU)       (None, 56, 56, 64)        0         \n",
            "                                                                 \n",
            " conv_pw_2 (Conv2D)          (None, 56, 56, 128)       8192      \n",
            "                                                                 \n",
            " conv_pw_2_bn (BatchNormaliz  (None, 56, 56, 128)      512       \n",
            " ation)                                                          \n",
            "                                                                 \n",
            " conv_pw_2_relu (ReLU)       (None, 56, 56, 128)       0         \n",
            "                                                                 \n",
            " conv_dw_3 (DepthwiseConv2D)  (None, 56, 56, 128)      1152      \n",
            "                                                                 \n",
            " conv_dw_3_bn (BatchNormaliz  (None, 56, 56, 128)      512       \n",
            " ation)                                                          \n",
            "                                                                 \n",
            " conv_dw_3_relu (ReLU)       (None, 56, 56, 128)       0         \n",
            "                                                                 \n",
            " conv_pw_3 (Conv2D)          (None, 56, 56, 128)       16384     \n",
            "                                                                 \n",
            " conv_pw_3_bn (BatchNormaliz  (None, 56, 56, 128)      512       \n",
            " ation)                                                          \n",
            "                                                                 \n",
            " conv_pw_3_relu (ReLU)       (None, 56, 56, 128)       0         \n",
            "                                                                 \n",
            " conv_pad_4 (ZeroPadding2D)  (None, 57, 57, 128)       0         \n",
            "                                                                 \n",
            " conv_dw_4 (DepthwiseConv2D)  (None, 28, 28, 128)      1152      \n",
            "                                                                 \n",
            " conv_dw_4_bn (BatchNormaliz  (None, 28, 28, 128)      512       \n",
            " ation)                                                          \n",
            "                                                                 \n",
            " conv_dw_4_relu (ReLU)       (None, 28, 28, 128)       0         \n",
            "                                                                 \n",
            " conv_pw_4 (Conv2D)          (None, 28, 28, 256)       32768     \n",
            "                                                                 \n",
            " conv_pw_4_bn (BatchNormaliz  (None, 28, 28, 256)      1024      \n",
            " ation)                                                          \n",
            "                                                                 \n",
            " conv_pw_4_relu (ReLU)       (None, 28, 28, 256)       0         \n",
            "                                                                 \n",
            " conv_dw_5 (DepthwiseConv2D)  (None, 28, 28, 256)      2304      \n",
            "                                                                 \n",
            " conv_dw_5_bn (BatchNormaliz  (None, 28, 28, 256)      1024      \n",
            " ation)                                                          \n",
            "                                                                 \n",
            " conv_dw_5_relu (ReLU)       (None, 28, 28, 256)       0         \n",
            "                                                                 \n",
            " conv_pw_5 (Conv2D)          (None, 28, 28, 256)       65536     \n",
            "                                                                 \n",
            " conv_pw_5_bn (BatchNormaliz  (None, 28, 28, 256)      1024      \n",
            " ation)                                                          \n",
            "                                                                 \n",
            " conv_pw_5_relu (ReLU)       (None, 28, 28, 256)       0         \n",
            "                                                                 \n",
            " conv_pad_6 (ZeroPadding2D)  (None, 29, 29, 256)       0         \n",
            "                                                                 \n",
            " conv_dw_6 (DepthwiseConv2D)  (None, 14, 14, 256)      2304      \n",
            "                                                                 \n",
            " conv_dw_6_bn (BatchNormaliz  (None, 14, 14, 256)      1024      \n",
            " ation)                                                          \n",
            "                                                                 \n",
            " conv_dw_6_relu (ReLU)       (None, 14, 14, 256)       0         \n",
            "                                                                 \n",
            " conv_pw_6 (Conv2D)          (None, 14, 14, 512)       131072    \n",
            "                                                                 \n",
            " conv_pw_6_bn (BatchNormaliz  (None, 14, 14, 512)      2048      \n",
            " ation)                                                          \n",
            "                                                                 \n",
            " conv_pw_6_relu (ReLU)       (None, 14, 14, 512)       0         \n",
            "                                                                 \n",
            " conv_dw_7 (DepthwiseConv2D)  (None, 14, 14, 512)      4608      \n",
            "                                                                 \n",
            " conv_dw_7_bn (BatchNormaliz  (None, 14, 14, 512)      2048      \n",
            " ation)                                                          \n",
            "                                                                 \n",
            " conv_dw_7_relu (ReLU)       (None, 14, 14, 512)       0         \n",
            "                                                                 \n",
            " conv_pw_7 (Conv2D)          (None, 14, 14, 512)       262144    \n",
            "                                                                 \n",
            " conv_pw_7_bn (BatchNormaliz  (None, 14, 14, 512)      2048      \n",
            " ation)                                                          \n",
            "                                                                 \n",
            " conv_pw_7_relu (ReLU)       (None, 14, 14, 512)       0         \n",
            "                                                                 \n",
            " conv_dw_8 (DepthwiseConv2D)  (None, 14, 14, 512)      4608      \n",
            "                                                                 \n",
            " conv_dw_8_bn (BatchNormaliz  (None, 14, 14, 512)      2048      \n",
            " ation)                                                          \n",
            "                                                                 \n",
            " conv_dw_8_relu (ReLU)       (None, 14, 14, 512)       0         \n",
            "                                                                 \n",
            " conv_pw_8 (Conv2D)          (None, 14, 14, 512)       262144    \n",
            "                                                                 \n",
            " conv_pw_8_bn (BatchNormaliz  (None, 14, 14, 512)      2048      \n",
            " ation)                                                          \n",
            "                                                                 \n",
            " conv_pw_8_relu (ReLU)       (None, 14, 14, 512)       0         \n",
            "                                                                 \n",
            " conv_dw_9 (DepthwiseConv2D)  (None, 14, 14, 512)      4608      \n",
            "                                                                 \n",
            " conv_dw_9_bn (BatchNormaliz  (None, 14, 14, 512)      2048      \n",
            " ation)                                                          \n",
            "                                                                 \n",
            " conv_dw_9_relu (ReLU)       (None, 14, 14, 512)       0         \n",
            "                                                                 \n",
            " conv_pw_9 (Conv2D)          (None, 14, 14, 512)       262144    \n",
            "                                                                 \n",
            " conv_pw_9_bn (BatchNormaliz  (None, 14, 14, 512)      2048      \n",
            " ation)                                                          \n",
            "                                                                 \n",
            " conv_pw_9_relu (ReLU)       (None, 14, 14, 512)       0         \n",
            "                                                                 \n",
            " conv_dw_10 (DepthwiseConv2D  (None, 14, 14, 512)      4608      \n",
            " )                                                               \n",
            "                                                                 \n",
            " conv_dw_10_bn (BatchNormali  (None, 14, 14, 512)      2048      \n",
            " zation)                                                         \n",
            "                                                                 \n",
            " conv_dw_10_relu (ReLU)      (None, 14, 14, 512)       0         \n",
            "                                                                 \n",
            " conv_pw_10 (Conv2D)         (None, 14, 14, 512)       262144    \n",
            "                                                                 \n",
            " conv_pw_10_bn (BatchNormali  (None, 14, 14, 512)      2048      \n",
            " zation)                                                         \n",
            "                                                                 \n",
            " conv_pw_10_relu (ReLU)      (None, 14, 14, 512)       0         \n",
            "                                                                 \n",
            " conv_dw_11 (DepthwiseConv2D  (None, 14, 14, 512)      4608      \n",
            " )                                                               \n",
            "                                                                 \n",
            " conv_dw_11_bn (BatchNormali  (None, 14, 14, 512)      2048      \n",
            " zation)                                                         \n",
            "                                                                 \n",
            " conv_dw_11_relu (ReLU)      (None, 14, 14, 512)       0         \n",
            "                                                                 \n",
            " conv_pw_11 (Conv2D)         (None, 14, 14, 512)       262144    \n",
            "                                                                 \n",
            " conv_pw_11_bn (BatchNormali  (None, 14, 14, 512)      2048      \n",
            " zation)                                                         \n",
            "                                                                 \n",
            " conv_pw_11_relu (ReLU)      (None, 14, 14, 512)       0         \n",
            "                                                                 \n",
            " conv_pad_12 (ZeroPadding2D)  (None, 15, 15, 512)      0         \n",
            "                                                                 \n",
            " conv_dw_12 (DepthwiseConv2D  (None, 7, 7, 512)        4608      \n",
            " )                                                               \n",
            "                                                                 \n",
            " conv_dw_12_bn (BatchNormali  (None, 7, 7, 512)        2048      \n",
            " zation)                                                         \n",
            "                                                                 \n",
            " conv_dw_12_relu (ReLU)      (None, 7, 7, 512)         0         \n",
            "                                                                 \n",
            " conv_pw_12 (Conv2D)         (None, 7, 7, 1024)        524288    \n",
            "                                                                 \n",
            " conv_pw_12_bn (BatchNormali  (None, 7, 7, 1024)       4096      \n",
            " zation)                                                         \n",
            "                                                                 \n",
            " conv_pw_12_relu (ReLU)      (None, 7, 7, 1024)        0         \n",
            "                                                                 \n",
            " conv_dw_13 (DepthwiseConv2D  (None, 7, 7, 1024)       9216      \n",
            " )                                                               \n",
            "                                                                 \n",
            " conv_dw_13_bn (BatchNormali  (None, 7, 7, 1024)       4096      \n",
            " zation)                                                         \n",
            "                                                                 \n",
            " conv_dw_13_relu (ReLU)      (None, 7, 7, 1024)        0         \n",
            "                                                                 \n",
            " conv_pw_13 (Conv2D)         (None, 7, 7, 1024)        1048576   \n",
            "                                                                 \n",
            " conv_pw_13_bn (BatchNormali  (None, 7, 7, 1024)       4096      \n",
            " zation)                                                         \n",
            "                                                                 \n",
            " conv_pw_13_relu (ReLU)      (None, 7, 7, 1024)        0         \n",
            "                                                                 \n",
            " flatten (Flatten)           (None, 50176)             0         \n",
            "                                                                 \n",
            " dense (Dense)               (None, 1)                 50177     \n",
            "                                                                 \n",
            "=================================================================\n",
            "Total params: 3,279,041\n",
            "Trainable params: 50,177\n",
            "Non-trainable params: 3,228,864\n",
            "_________________________________________________________________\n"
          ]
        }
      ],
      "source": [
        "model.summary()"
      ]
    },
    {
      "cell_type": "code",
      "execution_count": 25,
      "metadata": {
        "id": "Qat01koyUEac"
      },
      "outputs": [],
      "source": [
        "model.compile(optimizer='adam', loss=keras.losses.binary_crossentropy,\n",
        "              metrics=['accuracy'])"
      ]
    },
    {
      "cell_type": "code",
      "execution_count": 26,
      "metadata": {
        "id": "oEqLCRxAVGVX"
      },
      "outputs": [],
      "source": [
        "# Early stopping and checkpoint\n",
        "from keras.callbacks import ModelCheckpoint, EarlyStopping\n",
        "\n",
        "#Early stopping\n",
        "es = EarlyStopping(monitor=\"accuracy\", min_delta=0.01, patience=3,\n",
        "                   verbose=1)\n",
        "\n",
        "# Model checkpoint\n",
        "mc = ModelCheckpoint(monitor=\"accuracy\",filepath=\"bestmodel.h5\", \n",
        "                     verbose=1, save_best_only=True) \n",
        "\n",
        "\n",
        "\n",
        "cb= [es,mc]"
      ]
    },
    {
      "cell_type": "code",
      "execution_count": 27,
      "metadata": {
        "id": "zD8rJ-YeU4ee",
        "colab": {
          "base_uri": "https://localhost:8080/"
        },
        "outputId": "0860b8c3-6bbe-4fce-cceb-436caa0f5632"
      },
      "outputs": [
        {
          "output_type": "stream",
          "name": "stdout",
          "text": [
            "Epoch 1/10\n",
            "8/8 [==============================] - ETA: 0s - loss: 1.1988 - accuracy: 0.7382WARNING:tensorflow:Your input ran out of data; interrupting training. Make sure that your dataset or generator can generate at least `steps_per_epoch * epochs` batches (in this case, 16 batches). You may need to use the repeat() function when building your dataset.\n",
            "\n",
            "Epoch 00001: accuracy improved from -inf to 0.73820, saving model to bestmodel.h5\n",
            "8/8 [==============================] - 18s 2s/step - loss: 1.1988 - accuracy: 0.7382 - val_loss: 0.2485 - val_accuracy: 0.9167\n",
            "Epoch 2/10\n",
            "8/8 [==============================] - ETA: 0s - loss: 0.5299 - accuracy: 0.8789\n",
            "Epoch 00002: accuracy improved from 0.73820 to 0.87891, saving model to bestmodel.h5\n",
            "8/8 [==============================] - 12s 1s/step - loss: 0.5299 - accuracy: 0.8789\n",
            "Epoch 3/10\n",
            "8/8 [==============================] - ETA: 0s - loss: 0.3893 - accuracy: 0.9375\n",
            "Epoch 00003: accuracy improved from 0.87891 to 0.93750, saving model to bestmodel.h5\n",
            "8/8 [==============================] - 12s 2s/step - loss: 0.3893 - accuracy: 0.9375\n",
            "Epoch 4/10\n",
            "8/8 [==============================] - ETA: 0s - loss: 0.2333 - accuracy: 0.9442\n",
            "Epoch 00004: accuracy improved from 0.93750 to 0.94421, saving model to bestmodel.h5\n",
            "8/8 [==============================] - 11s 1s/step - loss: 0.2333 - accuracy: 0.9442\n",
            "Epoch 5/10\n",
            "8/8 [==============================] - ETA: 0s - loss: 0.0854 - accuracy: 0.9742\n",
            "Epoch 00005: accuracy improved from 0.94421 to 0.97425, saving model to bestmodel.h5\n",
            "8/8 [==============================] - 11s 1s/step - loss: 0.0854 - accuracy: 0.9742\n",
            "Epoch 6/10\n",
            "8/8 [==============================] - ETA: 0s - loss: 0.0853 - accuracy: 0.9648\n",
            "Epoch 00006: accuracy did not improve from 0.97425\n",
            "8/8 [==============================] - 12s 1s/step - loss: 0.0853 - accuracy: 0.9648\n",
            "Epoch 7/10\n",
            "8/8 [==============================] - ETA: 0s - loss: 0.0260 - accuracy: 0.9922\n",
            "Epoch 00007: accuracy improved from 0.97425 to 0.99219, saving model to bestmodel.h5\n",
            "8/8 [==============================] - 12s 1s/step - loss: 0.0260 - accuracy: 0.9922\n",
            "Epoch 8/10\n",
            "8/8 [==============================] - ETA: 0s - loss: 0.0156 - accuracy: 0.9871\n",
            "Epoch 00008: accuracy did not improve from 0.99219\n",
            "8/8 [==============================] - 11s 1s/step - loss: 0.0156 - accuracy: 0.9871\n",
            "Epoch 9/10\n",
            "8/8 [==============================] - ETA: 0s - loss: 0.0091 - accuracy: 0.9957\n",
            "Epoch 00009: accuracy improved from 0.99219 to 0.99571, saving model to bestmodel.h5\n",
            "8/8 [==============================] - 11s 1s/step - loss: 0.0091 - accuracy: 0.9957\n",
            "Epoch 10/10\n",
            "8/8 [==============================] - ETA: 0s - loss: 0.0017 - accuracy: 1.0000\n",
            "Epoch 00010: accuracy improved from 0.99571 to 1.00000, saving model to bestmodel.h5\n",
            "8/8 [==============================] - 12s 1s/step - loss: 0.0017 - accuracy: 1.0000\n",
            "Epoch 00010: early stopping\n"
          ]
        }
      ],
      "source": [
        "#train data\n",
        "hist=model.fit_generator(train_data, \n",
        "                         steps_per_epoch=8,\n",
        "                         epochs=10,\n",
        "                         verbose=1,\n",
        "                         validation_data=val_data,\n",
        "                         validation_steps=16,\n",
        "                         callbacks=cb)"
      ]
    },
    {
      "cell_type": "code",
      "source": [
        "from google.colab import drive\n",
        "drive.mount('/content/drive')"
      ],
      "metadata": {
        "id": "DUoSbY4TyA8m",
        "colab": {
          "base_uri": "https://localhost:8080/"
        },
        "outputId": "97c2717f-70bc-480e-a3a8-1556775b9ca4"
      },
      "execution_count": 28,
      "outputs": [
        {
          "output_type": "stream",
          "name": "stdout",
          "text": [
            "Drive already mounted at /content/drive; to attempt to forcibly remount, call drive.mount(\"/content/drive\", force_remount=True).\n"
          ]
        }
      ]
    },
    {
      "cell_type": "code",
      "execution_count": 29,
      "metadata": {
        "id": "SC4DLZnPbXNf"
      },
      "outputs": [],
      "source": [
        "#load the best fit model\n",
        "model=load_model(\"/content/bestmodel.h5\")"
      ]
    },
    {
      "cell_type": "code",
      "execution_count": 30,
      "metadata": {
        "id": "yJ0ZmAp3bX1r",
        "colab": {
          "base_uri": "https://localhost:8080/"
        },
        "outputId": "97606644-5b48-447b-dbff-a1c99c96b661"
      },
      "outputs": [
        {
          "output_type": "stream",
          "name": "stdout",
          "text": [
            "our model accuracy is 98.95833134651184%\n"
          ]
        }
      ],
      "source": [
        "#model accuracy\n",
        "acc=model.evaluate_generator(test_data)[1]\n",
        "print(f\"our model accuracy is {acc*100}%\")"
      ]
    },
    {
      "cell_type": "markdown",
      "source": [
        ""
      ],
      "metadata": {
        "id": "kH74ysHhINUX"
      }
    },
    {
      "cell_type": "code",
      "execution_count": 31,
      "metadata": {
        "id": "8fPM3Ac2UEgS",
        "colab": {
          "base_uri": "https://localhost:8080/"
        },
        "outputId": "c3a28abe-24f8-4bed-9165-aadb77bb2990"
      },
      "outputs": [
        {
          "output_type": "execute_result",
          "data": {
            "text/plain": [
              "dict_keys(['loss', 'accuracy', 'val_loss', 'val_accuracy'])"
            ]
          },
          "metadata": {},
          "execution_count": 31
        }
      ],
      "source": [
        "h=hist.history\n",
        "h.keys()"
      ]
    },
    {
      "cell_type": "markdown",
      "source": [
        ""
      ],
      "metadata": {
        "id": "LbglC1UOkb6h"
      }
    },
    {
      "cell_type": "code",
      "execution_count": 32,
      "metadata": {
        "id": "Nl1kvK7HLZWn",
        "colab": {
          "base_uri": "https://localhost:8080/",
          "height": 281
        },
        "outputId": "a72a1042-3be7-4529-f28f-75c418519e6b"
      },
      "outputs": [
        {
          "output_type": "display_data",
          "data": {
            "image/png": "[encoded data removed]",
            "text/plain": [
              "<Figure size 432x288 with 1 Axes>"
            ]
          },
          "metadata": {
            "needs_background": "light"
          }
        }
      ],
      "source": [
        "plt.plot(h['accuracy'], 'go--')\n",
        "plt.plot(h['loss'], 'go--',c=\"red\")\n",
        "plt.title(\"loss vs accuracy\")\n",
        "plt.show()"
      ]
    },
    {
      "cell_type": "code",
      "source": [
        "from PIL import Image\n",
        "from keras.preprocessing import image\n",
        "from keras.preprocessing.image import load_img, img_to_array"
      ],
      "metadata": {
        "id": "w40xXbAyk8sK"
      },
      "execution_count": 33,
      "outputs": []
    },
    {
      "cell_type": "code",
      "source": [
        "import cv2\n",
        "import numpy as np\n",
        "img=cv2.imread(\"/content/drive/MyDrive/deep_learning_project/dataset1/unknown_images/30.png\")\n",
        "img=cv2.resize(img,(224,224))\n",
        "img.shape\n",
        "img=np.array(img)\n",
        "img=img.reshape(1,224,224,3)\n",
        "image=preprocess_input(img)\n",
        "\n",
        "img=np.expand_dims(img, axis=0)\n",
        "pred=model.predict(image)\n",
        "print(pred)"
      ],
      "metadata": {
        "colab": {
          "base_uri": "https://localhost:8080/"
        },
        "id": "3dDdkF1F4XgR",
        "outputId": "abbf733b-b40a-4dc4-f174-d790c64633ad"
      },
      "execution_count": 40,
      "outputs": [
        {
          "output_type": "stream",
          "name": "stdout",
          "text": [
            "[[1.]]\n"
          ]
        }
      ]
    },
    {
      "cell_type": "markdown",
      "source": [
        ""
      ],
      "metadata": {
        "id": "ANT0cwUMu_Mo"
      }
    },
    {
      "cell_type": "markdown",
      "metadata": {
        "id": "t6dYoxoNXk7Q"
      },
      "source": [
        ""
      ]
    }
  ],
  "metadata": {
    "accelerator": "GPU",
    "colab": {
      "collapsed_sections": [],
      "name": "dataset1.ipynb",
      "provenance": [],
      "mount_file_id": "1GmV2lsEuOLrI_71foqQwmoXDURbhE8bc",
      "authorship_tag": "ABX9TyMZHqA9XGgMN+6rlii4I9A8",
      "include_colab_link": true
    },
    "kernelspec": {
      "display_name": "Python 3",
      "name": "python3"
    },
    "language_info": {
      "name": "python"
    }
  },
  "nbformat": 4,
  "nbformat_minor": 0
}